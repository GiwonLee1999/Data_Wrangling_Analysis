{
 "cells": [
  {
   "cell_type": "code",
   "execution_count": null,
   "id": "831fd12d-e763-4b32-80e5-6714f7337f2c",
   "metadata": {},
   "outputs": [
    {
     "ename": "",
     "evalue": "",
     "output_type": "error",
     "traceback": [
      "\u001b[1;31mRunning cells with 'Python 3.12.3' requires the ipykernel package.\n",
      "\u001b[1;31mRun the following command to install 'ipykernel' into the Python environment. \n",
      "\u001b[1;31mCommand: '/bin/python3 -m pip install ipykernel -U --user --force-reinstall'"
     ]
    }
   ],
   "source": [
    "import pandas as pd\n",
    "\n",
    "rewards_df = pd.read_csv('RewardsData.csv')\n",
    "\n",
    "len(rewards_df)"
   ]
  },
  {
   "cell_type": "code",
   "execution_count": 3,
   "id": "37780016-e1b4-4e3a-89ad-773884b58376",
   "metadata": {},
   "outputs": [],
   "source": [
    "## There are a lot of missing values."
   ]
  },
  {
   "cell_type": "code",
   "execution_count": null,
   "id": "cdfb85d7-6356-4da3-9e75-ea1689ccd1d6",
   "metadata": {},
   "outputs": [],
   "source": [
    "rewards_df.isna()\n",
    "\n",
    "## false is the value present. True if missing."
   ]
  },
  {
   "cell_type": "code",
   "execution_count": null,
   "id": "d476fc50-f27d-47ba-b175-b756ebc22c63",
   "metadata": {},
   "outputs": [],
   "source": [
    "# To view count of missing values\n",
    "\n",
    "missing_count = rewards_df.isna().sum()\n",
    "missing_count"
   ]
  },
  {
   "cell_type": "code",
   "execution_count": null,
   "id": "581bb62e-6f70-405b-aa5f-bb9e354ba173",
   "metadata": {},
   "outputs": [],
   "source": [
    "# Create and display missing value percentages variable \n",
    "missing_value_percentage = missing_count / len(rewards_df) * 100\n",
    "missing_value_percentage"
   ]
  },
  {
   "cell_type": "code",
   "execution_count": 8,
   "id": "a0a67924-9ade-4aca-9698-fad939ea18f1",
   "metadata": {},
   "outputs": [],
   "source": [
    "## We can see which values need to be transformed and preprocessed"
   ]
  },
  {
   "cell_type": "code",
   "execution_count": null,
   "id": "5b9966f2-b67e-423f-af72-4ca8b66aa8e1",
   "metadata": {},
   "outputs": [],
   "source": [
    "rewards_df['Last Seen'] ## object type, transform it to data format"
   ]
  },
  {
   "cell_type": "code",
   "execution_count": null,
   "id": "bfa45d23-f13b-42b0-8b8e-5555706e40b4",
   "metadata": {},
   "outputs": [],
   "source": [
    "rewards_df['Last Seen'] = pd.to_datetime(rewards_df['Last Seen'])\n",
    "rewards_df['Last Seen']"
   ]
  },
  {
   "cell_type": "code",
   "execution_count": null,
   "id": "12bbab32-aab8-48bc-8347-38e79940727f",
   "metadata": {},
   "outputs": [],
   "source": [
    "print(rewards_df['Last Seen'].max())\n",
    "print(rewards_df['Last Seen'].min())"
   ]
  },
  {
   "cell_type": "code",
   "execution_count": 14,
   "id": "2ddc384a-aec3-456a-8ec9-80ae894082d8",
   "metadata": {},
   "outputs": [],
   "source": [
    "## fillna replace missing value with specified value\n",
    "## inplace parameter changes original data\n",
    "rewards_df['Last Seen'].fillna(value=rewards_df['Last Seen'].min(), inplace=True)"
   ]
  },
  {
   "cell_type": "code",
   "execution_count": null,
   "id": "b733779c-b2e3-4c42-ad8f-1c5457835c2a",
   "metadata": {},
   "outputs": [],
   "source": [
    "missing_value_count = rewards_df.isna().sum()\n",
    "missing_value_count"
   ]
  },
  {
   "cell_type": "code",
   "execution_count": null,
   "id": "ea07a5c0-05ba-40a9-9764-22848b68c491",
   "metadata": {},
   "outputs": [],
   "source": [
    "## Dropna() remove all the records that contain missing values\n",
    "rewards_df_sample = rewards_df.dropna()\n",
    "rewards_df_sample"
   ]
  },
  {
   "cell_type": "code",
   "execution_count": null,
   "id": "2aee5b5f-1cb4-40ec-a099-e02e6f8e6ea2",
   "metadata": {},
   "outputs": [],
   "source": [
    "missing_value_count = rewards_df_sample.isna().sum()\n",
    "missing_value_count"
   ]
  },
  {
   "cell_type": "code",
   "execution_count": null,
   "id": "9961369f-0298-40ed-9d78-0783cf247631",
   "metadata": {},
   "outputs": [],
   "source": [
    "## drop() drop a column\n",
    "rewards_df_sample = rewards_df_sample.drop(columns='Tags')\n",
    "rewards_df_sample"
   ]
  },
  {
   "cell_type": "code",
   "execution_count": null,
   "id": "326a974d-784b-458a-9f49-108ca9e2dd5f",
   "metadata": {},
   "outputs": [],
   "source": [
    "## unique() return array of unique values from a dataframe\n",
    "city_unique = rewards_df_sample['City'].unique()\n",
    "city_unique.sort()\n",
    "city_unique\n",
    "# Last size cities share the same naming"
   ]
  },
  {
   "cell_type": "code",
   "execution_count": 37,
   "id": "695b9bf1-bf2e-4aab-a8a9-98a5636bede9",
   "metadata": {},
   "outputs": [],
   "source": [
    "# replace() function to replace specific values in a DataFrame or series with other values or NaN\n",
    "rewards_df_sample['City'].replace(to_replace=['Winston Salem', 'Winston Salem ',\n",
    "       'Winston salem', 'Winston salem ', 'Winston-Salem',\n",
    "       'Winston-Salem ', 'Winston-Salem, NC', 'Winston-salem'], value=\"Winston_Salem\", inplace=True)\n"
   ]
  },
  {
   "cell_type": "code",
   "execution_count": 47,
   "id": "81e98cfb-154c-4998-bb29-bb2896d76f13",
   "metadata": {},
   "outputs": [],
   "source": [
    "# some of the values contain empty spaces \n",
    "rewards_df_sample['City'] = rewards_df_sample['City'].str.strip()"
   ]
  },
  {
   "cell_type": "code",
   "execution_count": 49,
   "id": "445c14ae-eb00-4971-b2c9-ba2a7d31454f",
   "metadata": {},
   "outputs": [],
   "source": [
    "# Some of the city doesnt start with capital\n",
    "rewards_df_sample['City'] = rewards_df_sample['City'].str.title()"
   ]
  },
  {
   "cell_type": "code",
   "execution_count": null,
   "id": "0abd8f48-71cc-4f20-9faa-ad79096406c6",
   "metadata": {},
   "outputs": [],
   "source": [
    "\n",
    "city_unique = rewards_df_sample['City'].unique()\n",
    "city_unique.sort()\n",
    "city_unique"
   ]
  },
  {
   "cell_type": "code",
   "execution_count": null,
   "id": "7750fd02-e1df-45e1-965f-eb343dce6dcd",
   "metadata": {},
   "outputs": [],
   "source": [
    "city_unique = rewards_df_sample['State'].unique()\n",
    "city_unique.sort()\n",
    "city_unique"
   ]
  },
  {
   "cell_type": "code",
   "execution_count": 54,
   "id": "df215769-5cac-4071-b556-4e94bc849d39",
   "metadata": {},
   "outputs": [],
   "source": [
    "\n",
    "us_state_to_abbrev = {\n",
    "    \"Alabama\": \"AL\",\n",
    "    \"Alaska\": \"AK\",\n",
    "    \"Arizona\": \"AZ\",\n",
    "    \"Arkansas\": \"AR\",\n",
    "    \"California\": \"CA\",\n",
    "    \"Colorado\": \"CO\",\n",
    "    \"Connecticut\": \"CT\",\n",
    "    \"Delaware\": \"DE\",\n",
    "    \"Florida\": \"FL\",\n",
    "    \"Georgia\": \"GA\",\n",
    "    \"Hawaii\": \"HI\",\n",
    "    \"Idaho\": \"ID\",\n",
    "    \"Illinois\": \"IL\",\n",
    "    \"Indiana\": \"IN\",\n",
    "    \"Iowa\": \"IA\",\n",
    "    \"Kansas\": \"KS\",\n",
    "    \"Kentucky\": \"KY\",\n",
    "    \"Louisiana\": \"LA\",\n",
    "    \"Maine\": \"ME\",\n",
    "    \"Maryland\": \"MD\",\n",
    "    \"Massachusetts\": \"MA\",\n",
    "    \"Michigan\": \"MI\",\n",
    "    \"Minnesota\": \"MN\",\n",
    "    \"Mississippi\": \"MS\",\n",
    "    \"Missouri\": \"MO\",\n",
    "    \"Montana\": \"MT\",\n",
    "    \"Nebraska\": \"NE\",\n",
    "    \"Nevada\": \"NV\",\n",
    "    \"New Hampshire\": \"NH\",\n",
    "    \"New Jersey\": \"NJ\",\n",
    "    \"New Mexico\": \"NM\",\n",
    "    \"New York\": \"NY\",\n",
    "    \"North Carolina\": \"NC\",\n",
    "    \"North Dakota\": \"ND\",\n",
    "    \"Ohio\": \"OH\",\n",
    "    \"Oklahoma\": \"OK\",\n",
    "    \"Oregon\": \"OR\",\n",
    "    \"Pennsylvania\": \"PA\",\n",
    "    \"Rhode Island\": \"RI\",\n",
    "    \"South Carolina\": \"SC\",\n",
    "    \"South Dakota\": \"SD\",\n",
    "    \"Tennessee\": \"TN\",\n",
    "    \"Texas\": \"TX\",\n",
    "    \"Utah\": \"UT\",\n",
    "    \"Vermont\": \"VT\",\n",
    "    \"Virginia\": \"VA\",\n",
    "    \"Washington\": \"WA\",\n",
    "    \"West Virginia\": \"WV\",\n",
    "    \"Wisconsin\": \"WI\",\n",
    "    \"Wyoming\": \"WY\",\n",
    "    \"District of Columbia\": \"DC\",\n",
    "    \"American Samoa\": \"AS\",\n",
    "    \"Guam\": \"GU\",\n",
    "    \"Northern Mariana Islands\": \"MP\",\n",
    "    \"Puerto Rico\": \"PR\",\n",
    "    \"United States Minor Outlying Islands\": \"UM\",\n",
    "    \"Virgin Islands, U.S.\": \"VI\",\n",
    "}"
   ]
  },
  {
   "cell_type": "code",
   "execution_count": 55,
   "id": "962d0277-3a01-48d0-a36f-8ec4fd78a52b",
   "metadata": {},
   "outputs": [],
   "source": [
    "# replace each state names with abbreviation in dictionary"
   ]
  },
  {
   "cell_type": "code",
   "execution_count": null,
   "id": "fc412fda-d2fe-4962-a001-4a257dcbc6bd",
   "metadata": {},
   "outputs": [],
   "source": [
    "for state_name in us_state_to_abbrev:\n",
    "    rewards_df_sample['State'].replace(to_replace=state_name, value=us_state_to_abbrev[state_name], inplace=True)"
   ]
  },
  {
   "cell_type": "code",
   "execution_count": null,
   "id": "75176847-bbe6-4bc2-9df8-79f93e336814",
   "metadata": {},
   "outputs": [],
   "source": [
    "state_unique = rewards_df_sample['State'].unique()\n",
    "state_unique.sort()\n",
    "state_unique"
   ]
  },
  {
   "cell_type": "code",
   "execution_count": null,
   "id": "116481f4-b5a1-4718-a3d0-0777d7fcd3a6",
   "metadata": {},
   "outputs": [],
   "source": [
    "# convert it to dataframe for merging\n",
    "states_df = pd.DataFrame(list(us_state_to_abbrev.items()), columns=['State Name', 'State'])\n",
    "states_df.head(3)"
   ]
  },
  {
   "cell_type": "code",
   "execution_count": null,
   "id": "793da6fe-f4fa-4cee-bda5-6b69aa6c70d9",
   "metadata": {},
   "outputs": [],
   "source": [
    "# Merge the original dataframe with the states dataframe\n",
    "rewards_df_sample = pd.merge(rewards_df_sample, states_df, on='State', how='left')\n",
    "rewards_df_sample"
   ]
  },
  {
   "cell_type": "code",
   "execution_count": null,
   "id": "50061f7b-0975-4b82-8430-64f64f9610c2",
   "metadata": {},
   "outputs": [],
   "source": [
    "# rename State column to State Abbreviation\n",
    "rewards_df_sample.rename(columns={'State':'State Abbreviation'}, inplace=True)\n",
    "rewards_df_sample.head()"
   ]
  },
  {
   "cell_type": "code",
   "execution_count": null,
   "id": "16a6aa61-c4f6-4af2-8f5a-7ed7a23211e8",
   "metadata": {},
   "outputs": [],
   "source": [
    "# pop() and insert(), pop removes a column from a dataframe and returns it as a Series. state_name_col = rewards_df_sample.pop('State Name')\n",
    "state_name_col = rewards_df_sample.pop('State Name')\n",
    "# insert allows inserting a column into a Dataframe at a specified locaiton\n",
    "rewards_df_sample.insert(3, 'State Name', state_name_col)\n",
    "rewards_df_sample.head()"
   ]
  },
  {
   "cell_type": "code",
   "execution_count": null,
   "id": "eb507a5b-e3bf-4e4e-96da-195ef5a4c141",
   "metadata": {},
   "outputs": [],
   "source": [
    "zip_unique_values = rewards_df_sample['Zip'].unique()\n",
    "zip_unique_values.sort()\n",
    "zip_unique_values"
   ]
  },
  {
   "cell_type": "code",
   "execution_count": 85,
   "id": "f923b359-e3b6-4f8c-90be-ba9074a73460",
   "metadata": {},
   "outputs": [],
   "source": [
    "# zip codes is 5 digits, use slicing to cut down to five\n",
    "rewards_df_sample['Zip'] = rewards_df_sample['Zip'].str[:5]"
   ]
  },
  {
   "cell_type": "code",
   "execution_count": null,
   "id": "10023588-7f63-4afd-8c79-e3c9653296b6",
   "metadata": {},
   "outputs": [],
   "source": [
    "# boolean index to check for zip codes with a length of five digits\n",
    "zip_code_boolean_index = rewards_df_sample['Zip'].str.len() == 5\n",
    "zip_code_boolean_index"
   ]
  },
  {
   "cell_type": "code",
   "execution_count": 93,
   "id": "498d9d38-b010-45cb-95e1-98660dffd263",
   "metadata": {},
   "outputs": [],
   "source": [
    "# drop records that have a zip code length not equal to five\n",
    "rewards_df_sample = rewards_df_sample[zip_code_boolean_index]"
   ]
  },
  {
   "cell_type": "code",
   "execution_count": null,
   "id": "ed437855-c76a-4a8e-90d4-5b17c4e6fc7c",
   "metadata": {},
   "outputs": [],
   "source": [
    "zip_unique_values = rewards_df_sample['Zip'].unique()\n",
    "zip_unique_values.sort()\n",
    "zip_unique_values"
   ]
  },
  {
   "cell_type": "code",
   "execution_count": null,
   "id": "aeb91010-b1ac-4749-944b-6b6a8345ba84",
   "metadata": {},
   "outputs": [],
   "source": [
    "len(rewards_df_sample)"
   ]
  },
  {
   "cell_type": "code",
   "execution_count": null,
   "id": "d08ab90f-5668-4748-9212-7515c8cdb8c8",
   "metadata": {},
   "outputs": [],
   "source": [
    "# drop rows where column name is G and Lmao\n",
    "rewards_df_sample = rewards_df_sample[rewards_df_sample['City'] != 'G']\n",
    "\n",
    "rewards_df_sample = rewards_df_sample[rewards_df_sample['City'] != 'Lmao']\n",
    "\n",
    "len(rewards_df_sample)\n",
    "rewards_df_sample"
   ]
  }
 ],
 "metadata": {
  "kernelspec": {
   "display_name": "usr",
   "language": "python",
   "name": "python3"
  },
  "language_info": {
   "codemirror_mode": {
    "name": "ipython",
    "version": 3
   },
   "file_extension": ".py",
   "mimetype": "text/x-python",
   "name": "python",
   "nbconvert_exporter": "python",
   "pygments_lexer": "ipython3",
   "version": "3.12.3"
  }
 },
 "nbformat": 4,
 "nbformat_minor": 5
}
